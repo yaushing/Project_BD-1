{
 "cells": [
  {
   "cell_type": "code",
   "execution_count": null,
   "metadata": {},
   "outputs": [],
   "source": [
    "from chatterbot import ChatBot\n",
    "from chatterbot.trainers import ListTrainer\n",
    "from cleaner import clean_corpus\n",
    "from soundplayer import transsent\n",
    "from sortsounds import sortsounds\n",
    "\n",
    "\n",
    "CORPUS_FILE = \"chat.txt\"\n",
    "\n",
    "chatbot = ChatBot(\"Chatpot\")\n",
    "\n",
    "trainer = ListTrainer(chatbot)\n",
    "cleaned_corpus = clean_corpus(CORPUS_FILE)\n",
    "trainer.train(cleaned_corpus)\n",
    "\n",
    "exit_conditions = (\":q\", \"quit\", \"exit\")\n",
    "while True:\n",
    "    query = input(\"> \")\n",
    "    if query in exit_conditions:\n",
    "        break\n",
    "    else:\n",
    "        answer = str(chatbot.get_response(query))\n",
    "        print(f\"BD-1: {answer}\")\n",
    "        transsent(answer)"
   ]
  },
  {
   "cell_type": "code",
   "execution_count": null,
   "metadata": {},
   "outputs": [
    {
     "name": "stdout",
     "output_type": "stream",
     "text": [
      "\r",
      "List Trainer: [####################] 100%"
     ]
    },
    {
     "name": "stderr",
     "output_type": "stream",
     "text": [
      "[nltk_data] Error loading averaged_perceptron_tagger: <urlopen error\n",
      "[nltk_data]     [SSL: CERTIFICATE_VERIFY_FAILED] certificate verify\n",
      "[nltk_data]     failed: unable to get local issuer certificate\n",
      "[nltk_data]     (_ssl.c:1129)>\n",
      "[nltk_data] Error loading punkt: <urlopen error [SSL:\n",
      "[nltk_data]     CERTIFICATE_VERIFY_FAILED] certificate verify failed:\n",
      "[nltk_data]     unable to get local issuer certificate (_ssl.c:1129)>\n",
      "[nltk_data] Error loading stopwords: <urlopen error [SSL:\n",
      "[nltk_data]     CERTIFICATE_VERIFY_FAILED] certificate verify failed:\n",
      "[nltk_data]     unable to get local issuer certificate (_ssl.c:1129)>\n"
     ]
    },
    {
     "name": "stdout",
     "output_type": "stream",
     "text": [
      "\n",
      "> Hello\n",
      "BD-1: This is a test of courage\n",
      "> OK?\n",
      "BD-1: So they are independent already!\n",
      "> Nice!\n",
      "BD-1: Not bad\n",
      "> No shit\n",
      "BD-1: get help\n",
      "> no'\\\n",
      "BD-1: We must fuel bernice's ketamine addiction\n",
      "> We must fuel bernice's ketamine addiction\n",
      "BD-1: We must fuel bernice's ketamine addiction\n",
      "> We must fuel bernice's ketamine addiction\n",
      "BD-1: broo\n",
      "> what?\n",
      "BD-1: your little sister?!??!!!?\n",
      "> yes?\n",
      "BD-1: james\n",
      "> no\n",
      "BD-1: Not a Rick roll\n",
      "> but it is?\n",
      "BD-1: wei\n",
      "> We must fuel bernice's ketamine addiction\n",
      "BD-1: We must fuel bernice's ketamine addiction\n",
      "> We must fuel bernice's ketamine addiction\n",
      "BD-1: We must fuel bernice's ketamine addiction\n",
      "> We must fuel bernice's ketamine addiction\n",
      "BD-1: broo\n",
      "> no\n",
      "BD-1: Not a Rick roll\n"
     ]
    }
   ],
   "source": [
    "from chatterbot import ChatBot\n",
    "from chatterbot.trainers import ListTrainer\n",
    "from cleaner import clean_corpus\n",
    "\n",
    "\n",
    "CORPUS_FILE = \"chat.txt\"\n",
    "\n",
    "chatbot = ChatBot(\"Chatpot\")\n",
    "\n",
    "trainer = ListTrainer(chatbot)\n",
    "cleaned_corpus = clean_corpus(CORPUS_FILE)\n",
    "trainer.train(cleaned_corpus)\n",
    "\n",
    "exit_conditions = (\":q\", \"quit\", \"exit\")\n",
    "while True:\n",
    "    query = input(\"> \")\n",
    "    if query in exit_conditions:\n",
    "        break\n",
    "    else:\n",
    "        answer = str(chatbot.get_response(query))\n",
    "        print(f\"BD-1: {answer}\")"
   ]
  },
  {
   "cell_type": "code",
   "execution_count": null,
   "metadata": {},
   "outputs": [],
   "source": []
  }
 ],
 "metadata": {
  "kernelspec": {
   "display_name": "Python 3 (ipykernel)",
   "language": "python",
   "name": "python3"
  },
  "language_info": {
   "codemirror_mode": {
    "name": "ipython",
    "version": 3
   },
   "file_extension": ".py",
   "mimetype": "text/x-python",
   "name": "python",
   "nbconvert_exporter": "python",
   "pygments_lexer": "ipython3",
   "version": "3.9.12"
  },
  "vscode": {
   "interpreter": {
    "hash": "a665b5d41d17b532ea9890333293a1b812fa0b73c9c25c950b3cedf1bebd0438"
   }
  }
 },
 "nbformat": 4,
 "nbformat_minor": 2
}
